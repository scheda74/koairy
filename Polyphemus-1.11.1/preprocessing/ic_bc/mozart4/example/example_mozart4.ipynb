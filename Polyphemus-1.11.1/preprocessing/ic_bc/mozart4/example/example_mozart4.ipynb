{
 "metadata": {
  "kernelspec": {
   "display_name": "Python 2",
   "language": "python",
   "name": "python2"
  },
  "language_info": {
   "codemirror_mode": {
    "name": "ipython",
    "version": 2
   },
   "file_extension": ".py",
   "mimetype": "text/x-python",
   "name": "python",
   "nbconvert_exporter": "python",
   "pygments_lexer": "ipython2",
   "version": "2"
  },
  "name": ""
 },
 "nbformat": 3,
 "nbformat_minor": 0,
 "worksheets": [
  {
   "cells": [
    {
     "cell_type": "code",
     "collapsed": false,
     "input": [
      "!$POLYPHEMUS/bin/download_dataset preprocessing/mozart4"
     ],
     "language": "python",
     "metadata": {},
     "outputs": [],
     "prompt_number": null
    },
    {
     "cell_type": "code",
     "collapsed": false,
     "input": [
      "from test_utils.notebook.env import *"
     ],
     "language": "python",
     "metadata": {},
     "outputs": [],
     "prompt_number": null
    },
    {
     "cell_type": "markdown",
     "metadata": {},
     "source": [
      "# Mozart4-geos5 integration test\n",
      "## The ic and bc preprocessing use the following files in [config/](config/):\n",
      "\n",
      "* [general.cfg](config/general.cfg): data domain, with the path to the level file.\n",
      "* [levels.dat](config/levels.dat): vertical level altitudes.\n",
      "* [mozart4.cfg](config/mozart4.cfg): Mozart4 parameters, input files and output directories.\n",
      "* [input/molecular_weights_mozart4_{gas,aer,ss,du}.txt](config/input/): species molecular weights\n",
      "* [input/speciation_mozart4_{gas,aer,ss,du}.dat](config/input/): speciation factors"
     ]
    },
    {
     "cell_type": "code",
     "collapsed": false,
     "input": [
      "!cd $POLYPHEMUS/preprocessing/mozart4/example; ls . ./input ./raw_data/mozart4/"
     ],
     "language": "python",
     "metadata": {},
     "outputs": [],
     "prompt_number": null
    },
    {
     "cell_type": "code",
     "collapsed": false,
     "input": [
      "!cd $POLYPHEMUS/preprocessing/mozart4/ && scons -j 8\n",
      "\n",
      "assert _exit_code == 0"
     ],
     "language": "python",
     "metadata": {},
     "outputs": [],
     "prompt_number": null
    },
    {
     "cell_type": "code",
     "collapsed": false,
     "input": [
      "for chem in \"gas\", \"aer\", \"DU\", \"SS\":\n",
      "    result = \"data/ic-\" + chem\n",
      "    !rm -fr $result\n",
      "    !mkdir -p $result\n",
      "    !../ic-mozart4-$chem general.cfg mozart4.cfg 20081231_06:00\n",
      "    assert _exit_code == 0\n",
      "    assert_no_difference(compare_dir(result))"
     ],
     "language": "python",
     "metadata": {},
     "outputs": [],
     "prompt_number": null
    },
    {
     "cell_type": "code",
     "collapsed": false,
     "input": [
      "for chem in \"gas\", \"aer\", \"DU\", \"SS\":\n",
      "    result = \"data/bc-\" + chem\n",
      "    !rm -fr $result\n",
      "    !mkdir -p $result\n",
      "    !../bc-mozart4-$chem general.cfg mozart4.cfg 20081231_06:00 20090103_00:00|tee bc.log\n",
      "    assert _exit_code == 0\n",
      "    assert_no_difference(compare_dir(result))"
     ],
     "language": "python",
     "metadata": {},
     "outputs": [],
     "prompt_number": null
    },
    {
     "cell_type": "code",
     "collapsed": false,
     "input": [
      "assert_no_difference(\n",
      "    compare_dir(\"data\", \"general.cfg\"))"
     ],
     "language": "python",
     "metadata": {},
     "outputs": [],
     "prompt_number": null
    }
   ],
   "metadata": {}
  }
 ]
}