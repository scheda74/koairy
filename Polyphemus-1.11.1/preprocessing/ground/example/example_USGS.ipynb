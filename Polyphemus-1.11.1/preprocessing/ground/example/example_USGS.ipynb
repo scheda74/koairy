{
 "metadata": {
  "kernelspec": {
   "display_name": "Python 2",
   "language": "python",
   "name": "python2"
  },
  "language_info": {
   "codemirror_mode": {
    "name": "ipython",
    "version": 2
   },
   "file_extension": ".py",
   "mimetype": "text/x-python",
   "name": "python",
   "nbconvert_exporter": "python",
   "pygments_lexer": "ipython2",
   "version": "2"
  },
  "name": ""
 },
 "nbformat": 3,
 "nbformat_minor": 0,
 "worksheets": [
  {
   "cells": [
    {
     "cell_type": "code",
     "collapsed": false,
     "input": [
      "!$POLYPHEMUS/bin/download_dataset preprocessing/ground"
     ],
     "language": "python",
     "metadata": {},
     "outputs": [],
     "prompt_number": null
    },
    {
     "cell_type": "code",
     "collapsed": false,
     "input": [
      "from test_utils.notebook.env import *"
     ],
     "language": "python",
     "metadata": {},
     "outputs": [],
     "prompt_number": null
    },
    {
     "cell_type": "markdown",
     "metadata": {},
     "source": [
      "## USGS preprocessing example\n",
      "\n",
      "### Land Use Cover\n",
      "\n",
      "Compile [\\$POLYPHEMUS/preprocessing/ground/luc-usgs](polyphemus/preprocessing/ground/luc-usgs):"
     ]
    },
    {
     "cell_type": "code",
     "collapsed": false,
     "input": [
      "!cd $POLYPHEMUS/preprocessing/ground/ && scons -j 8 luc-usgs"
     ],
     "language": "python",
     "metadata": {},
     "outputs": [],
     "prompt_number": null
    },
    {
     "cell_type": "markdown",
     "metadata": {},
     "source": [
      "<br/>\n",
      "Run [luc-usgs](polyphemus/preprocessing/ground/luc-usgs) to generate the file [data/ground/LUC-usgs.bin](data/ground/LUC-usgs.bin):"
     ]
    },
    {
     "cell_type": "code",
     "collapsed": false,
     "input": [
      "!mkdir -p data/ground\n",
      "!rm -f data/ground/LUC-usgs.bin\n",
      "\n",
      "!$POLYPHEMUS/preprocessing/ground/luc-usgs general.cfg luc-usgs.cfg\n",
      "\n",
      "assert _exit_code == 0 and path.isfile(\"data/ground/LUC-usgs.bin\")"
     ],
     "language": "python",
     "metadata": {},
     "outputs": [],
     "prompt_number": null
    },
    {
     "cell_type": "markdown",
     "metadata": {},
     "source": [
      "### Roughness\n",
      "\n",
      "The preprocessing program [\\$POLYPHEMUS/preprocessing/ground/roughness](polyphemus/preprocessing/ground/roughness) needs as input data [LUC-usgs.bin](data/ground/LUC-usgs.bin) as produced by [luc-usgs](polyphemus/preprocessing/ground/luc-usgs) in the above step.\n",
      "\n",
      "First, compile the [roughness](polyphemus/preprocessing/ground/roughness) program: "
     ]
    },
    {
     "cell_type": "code",
     "collapsed": false,
     "input": [
      "!cd $POLYPHEMUS/preprocessing/ground/ && scons -j 8 roughness"
     ],
     "language": "python",
     "metadata": {},
     "outputs": [],
     "prompt_number": null
    },
    {
     "cell_type": "markdown",
     "metadata": {},
     "source": [
      "Run [roughness](polyphemus/preprocessing/ground/roughness) to produce the file [data/ground/Roughness-usgs.bin](data/ground/Roughness-usgs.bin):"
     ]
    },
    {
     "cell_type": "code",
     "collapsed": false,
     "input": [
      "!rm -f data/ground/Roughness-usgs.bin\n",
      "\n",
      "!$POLYPHEMUS/preprocessing/ground/roughness general.cfg roughness.cfg\n",
      "\n",
      "assert _exit_code == 0 and path.isfile(\"data/ground/Roughness-usgs.bin\")"
     ],
     "language": "python",
     "metadata": {},
     "outputs": [],
     "prompt_number": null
    },
    {
     "cell_type": "heading",
     "level": 1,
     "metadata": {},
     "source": [
      "Regression test"
     ]
    },
    {
     "cell_type": "code",
     "collapsed": false,
     "input": [
      "from test_utils import *\n",
      "\n",
      "assert_no_difference(\n",
      "    compare_dir(\"raw_data\"),\n",
      "    compare_dir(\"data\", \"config/general.cfg\"))"
     ],
     "language": "python",
     "metadata": {},
     "outputs": [],
     "prompt_number": null
    }
   ],
   "metadata": {}
  }
 ]
}