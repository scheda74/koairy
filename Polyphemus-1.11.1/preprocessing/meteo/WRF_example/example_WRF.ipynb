{
 "metadata": {
  "kernelspec": {
   "display_name": "Python 2",
   "language": "python",
   "name": "python2"
  },
  "language_info": {
   "codemirror_mode": {
    "name": "ipython",
    "version": 2
   },
   "file_extension": ".py",
   "mimetype": "text/x-python",
   "name": "python",
   "nbconvert_exporter": "python",
   "pygments_lexer": "ipython2",
   "version": "2"
  },
  "name": ""
 },
 "nbformat": 3,
 "nbformat_minor": 0,
 "worksheets": [
  {
   "cells": [
    {
     "cell_type": "code",
     "collapsed": false,
     "input": [
      "!$POLYPHEMUS/bin/download_dataset preprocessing/meteo"
     ],
     "language": "python",
     "metadata": {},
     "outputs": [],
     "prompt_number": null
    },
    {
     "cell_type": "code",
     "collapsed": false,
     "input": [
      "from test_utils.notebook.env import *"
     ],
     "language": "python",
     "metadata": {},
     "outputs": [],
     "prompt_number": null
    },
    {
     "cell_type": "markdown",
     "metadata": {},
     "source": [
      "# WRF preprocessing example\n",
      "## Configuration files\n",
      "The WRF preprocessing use the following files in the [current directory](./):\n",
      "* [general.cfg](general.cfg): data domain, with the path to the level file.\n",
      "* [levels.dat](levels.dat): vertical level altitudes.\n",
      "* [WRF-meteo.cfg](WRF-meteo.cfg): WRF parameters, input files and output directories.\n"
     ]
    },
    {
     "cell_type": "markdown",
     "metadata": {},
     "source": [
      "FastJX comes with parameter files, the variable FastJ_parameter_files:"
     ]
    },
    {
     "cell_type": "code",
     "collapsed": false,
     "input": [
      "replace_value(\"WRF-meteo.cfg\", 'FastJ_parameter_files', POLYPHEMUS + \"/include/fastJX\")"
     ],
     "language": "python",
     "metadata": {},
     "outputs": [],
     "prompt_number": null
    },
    {
     "cell_type": "markdown",
     "metadata": {},
     "source": [
      "## Input Data\n",
      "Besides the WRF data in [raw_data/WRF/](raw_data/WRF/), land use data is also needed.\n",
      "To generate this data, please run the example [\\$POLYPHEMUS/preprocessing/ground/](polyphemus/preprocessing/ground/)."
     ]
    },
    {
     "cell_type": "code",
     "collapsed": false,
     "input": [
      "!mkdir -p data\n",
      "!ln -sf $POLYPHEMUS\"/preprocessing/ground/example/data/ground\" data/\n",
      "assert path.isfile(POLYPHEMUS + \"/preprocessing/ground/example/data/ground/LUC-usgs.bin\")\n",
      "assert path.isfile(POLYPHEMUS + \"/preprocessing/ground/example/data/ground/Roughness-usgs.bin\")"
     ],
     "language": "python",
     "metadata": {},
     "outputs": [],
     "prompt_number": null
    },
    {
     "cell_type": "heading",
     "level": 2,
     "metadata": {},
     "source": [
      "Running the WRF preprocessing"
     ]
    },
    {
     "cell_type": "markdown",
     "metadata": {},
     "source": [
      "The meteo preprocessing programs \"WRF-meteo\" needs to be built:"
     ]
    },
    {
     "cell_type": "code",
     "collapsed": false,
     "input": [
      "!cd $POLYPHEMUS/preprocessing/meteo/ && scons -j 8 WRF-meteo"
     ],
     "language": "python",
     "metadata": {},
     "outputs": [],
     "prompt_number": null
    },
    {
     "cell_type": "markdown",
     "metadata": {},
     "source": [
      "Then launch \"WRF-meteo\":"
     ]
    },
    {
     "cell_type": "code",
     "collapsed": false,
     "input": [
      "!mkdir -p data/meteo\n",
      "!rm -f data/meteo/*.bin\n",
      "\n",
      "!$POLYPHEMUS/preprocessing/meteo/WRF-meteo general.cfg WRF-meteo.cfg 2004-01-16\n",
      "\n",
      "assert _exit_code == 0 and len(glob('data/meteo/*.bin')) == 32"
     ],
     "language": "python",
     "metadata": {},
     "outputs": [],
     "prompt_number": null
    },
    {
     "cell_type": "markdown",
     "metadata": {},
     "source": [
      "To have some statistics:"
     ]
    },
    {
     "cell_type": "code",
     "collapsed": false,
     "input": [
      "!$POLYPHEMUS/utils/get_info_float data/meteo/Temperature.bin"
     ],
     "language": "python",
     "metadata": {},
     "outputs": [],
     "prompt_number": null
    },
    {
     "cell_type": "markdown",
     "metadata": {},
     "source": [
      "Furthermore the size of most of meteorological files should be $4 \\times Nt \\times Nz \\times Ny \\times Nx$, where 4 is the size of a 'float'. As $Nx$, $Ny$ and $Nz$\" are known from [general.cfg](config/general.cfg), you can check the number of time steps which have been computed."
     ]
    },
    {
     "cell_type": "markdown",
     "metadata": {},
     "source": [
      "## Vertical Diffusion\n",
      "The vertical diffusion according to _Louis_ parameterization is already computed from previous program, but if you want to use the _Troen and Mahrt_ parameterization, you have to launch program \"$POLYPHEMUS/preprocessing/meteo/Kz_TM\":"
     ]
    },
    {
     "cell_type": "code",
     "collapsed": false,
     "input": [
      "!cd $POLYPHEMUS/preprocessing/meteo/ && scons -j 8 Kz_TM"
     ],
     "language": "python",
     "metadata": {},
     "outputs": [],
     "prompt_number": null
    },
    {
     "cell_type": "code",
     "collapsed": false,
     "input": [
      "!$POLYPHEMUS/preprocessing/meteo/Kz_TM general.cfg WRF-meteo.cfg \\\n",
      "                                        2004-01-16_00 2004-01-17_00\n",
      "assert _exit_code == 0 and path.isfile(\"data/meteo/Kz_TM.bin\") \\\n",
      "                       and path.isfile(\"data/meteo/LMO.bin\") \\\n",
      "                       and path.isfile(\"data/meteo/SurfaceRelativeHumidity.bin\")  "
     ],
     "language": "python",
     "metadata": {},
     "outputs": [],
     "prompt_number": null
    },
    {
     "cell_type": "markdown",
     "metadata": {},
     "source": [
      "It is generally a good idea to check if emissions are realistic. Fields can be displayed with python postprocessing tools, using the Polyphemus library Atmopy:"
     ]
    },
    {
     "cell_type": "code",
     "collapsed": false,
     "input": [
      "from atmopy.display import *\n",
      "\n",
      "m = getm(\"disp.cfg\")\n",
      "d = getd(\"disp.cfg\", \"data/meteo/FirstLevelWindModule.bin\")\n",
      "\n",
      "dispcf(m, d[0,0])\n",
      "plt.gcf().set_size_inches(10, 8)"
     ],
     "language": "python",
     "metadata": {},
     "outputs": [],
     "prompt_number": null
    },
    {
     "cell_type": "code",
     "collapsed": false,
     "input": [
      "put_back_value(\"config/general.cfg\", 'Programs')"
     ],
     "language": "python",
     "metadata": {},
     "outputs": [],
     "prompt_number": null
    },
    {
     "cell_type": "heading",
     "level": 1,
     "metadata": {},
     "source": [
      "Regression test"
     ]
    },
    {
     "cell_type": "code",
     "collapsed": false,
     "input": [
      "assert_no_difference(\n",
      "    compare_dir(\"data/meteo\", \"general.cfg\"))"
     ],
     "language": "python",
     "metadata": {},
     "outputs": [],
     "prompt_number": null
    }
   ],
   "metadata": {}
  }
 ]
}